{
  "nbformat": 4,
  "nbformat_minor": 0,
  "metadata": {
    "colab": {
      "name": "FeatureSelection.ipynb",
      "provenance": []
    },
    "kernelspec": {
      "display_name": "Python 3",
      "name": "python3"
    },
    "language_info": {
      "name": "python"
    }
  },
  "cells": [
    {
      "cell_type": "code",
      "metadata": {
        "id": "YCUsxW4POcOU"
      },
      "source": [
        "import pandas as pd\n",
        "import numpy as np\n",
        "import matplotlib.pyplot as plt\n",
        "%matplotlib inline"
      ],
      "execution_count": null,
      "outputs": []
    },
    {
      "cell_type": "code",
      "metadata": {
        "id": "Yd6C3pZRPBu3"
      },
      "source": [
        "colnames = [\"duration\",\"protocol_type\",\"service\",\"flag\",\"src_bytes\",\"dst_bytes\",\"land\",\"wrong_fragment\",\"urgent\",\"hot\",\"num_failed_logins\",\"logged_in\",\"num_compromised\",\"root_shell\",\"su_attempted\",\"num_root\",\"num_file_creations\",\"num_shells\",\"num_access_files\",\"num_outbound_cmds\",\"is_host_login\",\"is_guest_login\",\"count\",\"srv_count\",\"serror_rate\",\"srv_serror_rate\",\"same_srv_rate\",\"diff_srv_rate\",\"srv_diff_host_rate\",\"una1\",\"una2\",\"dst_host_count\",\"dst_host_srv_count\",\"dst_host_same_srv_rate\",\"dst_host_diff_srv_rate\",\"dst_host_same_src_port_rate\",\"dst_host_srv_diff_host_rate\",\"dst_host_serror_rate\",\"dst_host_srv_serror_rate\",\"dst_host_rerror_rate\",\"dst_host_srv_rerror_rate\",\"result\"]\n",
        "# len(colnames)"
      ],
      "execution_count": null,
      "outputs": []
    },
    {
      "cell_type": "code",
      "metadata": {
        "id": "ygmuAymtOi0Y"
      },
      "source": [
        "df=pd.read_csv('/content/drive/MyDrive/kddcup.data_10_percent_corrected',header=None,names=colnames)"
      ],
      "execution_count": null,
      "outputs": []
    },
    {
      "cell_type": "code",
      "metadata": {
        "colab": {
          "base_uri": "https://localhost:8080/",
          "height": 224
        },
        "id": "BHMhs41cO7Vj",
        "outputId": "8f9fe516-5874-4723-aa2f-8788facdb45f"
      },
      "source": [
        "df.head()"
      ],
      "execution_count": null,
      "outputs": [
        {
          "output_type": "execute_result",
          "data": {
            "text/html": [
              "<div>\n",
              "<style scoped>\n",
              "    .dataframe tbody tr th:only-of-type {\n",
              "        vertical-align: middle;\n",
              "    }\n",
              "\n",
              "    .dataframe tbody tr th {\n",
              "        vertical-align: top;\n",
              "    }\n",
              "\n",
              "    .dataframe thead th {\n",
              "        text-align: right;\n",
              "    }\n",
              "</style>\n",
              "<table border=\"1\" class=\"dataframe\">\n",
              "  <thead>\n",
              "    <tr style=\"text-align: right;\">\n",
              "      <th></th>\n",
              "      <th>duration</th>\n",
              "      <th>protocol_type</th>\n",
              "      <th>service</th>\n",
              "      <th>flag</th>\n",
              "      <th>src_bytes</th>\n",
              "      <th>dst_bytes</th>\n",
              "      <th>land</th>\n",
              "      <th>wrong_fragment</th>\n",
              "      <th>urgent</th>\n",
              "      <th>hot</th>\n",
              "      <th>num_failed_logins</th>\n",
              "      <th>logged_in</th>\n",
              "      <th>num_compromised</th>\n",
              "      <th>root_shell</th>\n",
              "      <th>su_attempted</th>\n",
              "      <th>num_root</th>\n",
              "      <th>num_file_creations</th>\n",
              "      <th>num_shells</th>\n",
              "      <th>num_access_files</th>\n",
              "      <th>num_outbound_cmds</th>\n",
              "      <th>is_host_login</th>\n",
              "      <th>is_guest_login</th>\n",
              "      <th>count</th>\n",
              "      <th>srv_count</th>\n",
              "      <th>serror_rate</th>\n",
              "      <th>srv_serror_rate</th>\n",
              "      <th>same_srv_rate</th>\n",
              "      <th>diff_srv_rate</th>\n",
              "      <th>srv_diff_host_rate</th>\n",
              "      <th>una1</th>\n",
              "      <th>una2</th>\n",
              "      <th>dst_host_count</th>\n",
              "      <th>dst_host_srv_count</th>\n",
              "      <th>dst_host_same_srv_rate</th>\n",
              "      <th>dst_host_diff_srv_rate</th>\n",
              "      <th>dst_host_same_src_port_rate</th>\n",
              "      <th>dst_host_srv_diff_host_rate</th>\n",
              "      <th>dst_host_serror_rate</th>\n",
              "      <th>dst_host_srv_serror_rate</th>\n",
              "      <th>dst_host_rerror_rate</th>\n",
              "      <th>dst_host_srv_rerror_rate</th>\n",
              "      <th>result</th>\n",
              "    </tr>\n",
              "  </thead>\n",
              "  <tbody>\n",
              "    <tr>\n",
              "      <th>0</th>\n",
              "      <td>0</td>\n",
              "      <td>tcp</td>\n",
              "      <td>http</td>\n",
              "      <td>SF</td>\n",
              "      <td>181</td>\n",
              "      <td>5450</td>\n",
              "      <td>0</td>\n",
              "      <td>0</td>\n",
              "      <td>0</td>\n",
              "      <td>0</td>\n",
              "      <td>0</td>\n",
              "      <td>1</td>\n",
              "      <td>0</td>\n",
              "      <td>0</td>\n",
              "      <td>0</td>\n",
              "      <td>0</td>\n",
              "      <td>0</td>\n",
              "      <td>0</td>\n",
              "      <td>0</td>\n",
              "      <td>0</td>\n",
              "      <td>0</td>\n",
              "      <td>0</td>\n",
              "      <td>8</td>\n",
              "      <td>8</td>\n",
              "      <td>0.0</td>\n",
              "      <td>0.0</td>\n",
              "      <td>0.0</td>\n",
              "      <td>0.0</td>\n",
              "      <td>1.0</td>\n",
              "      <td>0.0</td>\n",
              "      <td>0.0</td>\n",
              "      <td>9</td>\n",
              "      <td>9</td>\n",
              "      <td>1.0</td>\n",
              "      <td>0.0</td>\n",
              "      <td>0.11</td>\n",
              "      <td>0.0</td>\n",
              "      <td>0.0</td>\n",
              "      <td>0.0</td>\n",
              "      <td>0.0</td>\n",
              "      <td>0.0</td>\n",
              "      <td>normal.</td>\n",
              "    </tr>\n",
              "    <tr>\n",
              "      <th>1</th>\n",
              "      <td>0</td>\n",
              "      <td>tcp</td>\n",
              "      <td>http</td>\n",
              "      <td>SF</td>\n",
              "      <td>239</td>\n",
              "      <td>486</td>\n",
              "      <td>0</td>\n",
              "      <td>0</td>\n",
              "      <td>0</td>\n",
              "      <td>0</td>\n",
              "      <td>0</td>\n",
              "      <td>1</td>\n",
              "      <td>0</td>\n",
              "      <td>0</td>\n",
              "      <td>0</td>\n",
              "      <td>0</td>\n",
              "      <td>0</td>\n",
              "      <td>0</td>\n",
              "      <td>0</td>\n",
              "      <td>0</td>\n",
              "      <td>0</td>\n",
              "      <td>0</td>\n",
              "      <td>8</td>\n",
              "      <td>8</td>\n",
              "      <td>0.0</td>\n",
              "      <td>0.0</td>\n",
              "      <td>0.0</td>\n",
              "      <td>0.0</td>\n",
              "      <td>1.0</td>\n",
              "      <td>0.0</td>\n",
              "      <td>0.0</td>\n",
              "      <td>19</td>\n",
              "      <td>19</td>\n",
              "      <td>1.0</td>\n",
              "      <td>0.0</td>\n",
              "      <td>0.05</td>\n",
              "      <td>0.0</td>\n",
              "      <td>0.0</td>\n",
              "      <td>0.0</td>\n",
              "      <td>0.0</td>\n",
              "      <td>0.0</td>\n",
              "      <td>normal.</td>\n",
              "    </tr>\n",
              "    <tr>\n",
              "      <th>2</th>\n",
              "      <td>0</td>\n",
              "      <td>tcp</td>\n",
              "      <td>http</td>\n",
              "      <td>SF</td>\n",
              "      <td>235</td>\n",
              "      <td>1337</td>\n",
              "      <td>0</td>\n",
              "      <td>0</td>\n",
              "      <td>0</td>\n",
              "      <td>0</td>\n",
              "      <td>0</td>\n",
              "      <td>1</td>\n",
              "      <td>0</td>\n",
              "      <td>0</td>\n",
              "      <td>0</td>\n",
              "      <td>0</td>\n",
              "      <td>0</td>\n",
              "      <td>0</td>\n",
              "      <td>0</td>\n",
              "      <td>0</td>\n",
              "      <td>0</td>\n",
              "      <td>0</td>\n",
              "      <td>8</td>\n",
              "      <td>8</td>\n",
              "      <td>0.0</td>\n",
              "      <td>0.0</td>\n",
              "      <td>0.0</td>\n",
              "      <td>0.0</td>\n",
              "      <td>1.0</td>\n",
              "      <td>0.0</td>\n",
              "      <td>0.0</td>\n",
              "      <td>29</td>\n",
              "      <td>29</td>\n",
              "      <td>1.0</td>\n",
              "      <td>0.0</td>\n",
              "      <td>0.03</td>\n",
              "      <td>0.0</td>\n",
              "      <td>0.0</td>\n",
              "      <td>0.0</td>\n",
              "      <td>0.0</td>\n",
              "      <td>0.0</td>\n",
              "      <td>normal.</td>\n",
              "    </tr>\n",
              "    <tr>\n",
              "      <th>3</th>\n",
              "      <td>0</td>\n",
              "      <td>tcp</td>\n",
              "      <td>http</td>\n",
              "      <td>SF</td>\n",
              "      <td>219</td>\n",
              "      <td>1337</td>\n",
              "      <td>0</td>\n",
              "      <td>0</td>\n",
              "      <td>0</td>\n",
              "      <td>0</td>\n",
              "      <td>0</td>\n",
              "      <td>1</td>\n",
              "      <td>0</td>\n",
              "      <td>0</td>\n",
              "      <td>0</td>\n",
              "      <td>0</td>\n",
              "      <td>0</td>\n",
              "      <td>0</td>\n",
              "      <td>0</td>\n",
              "      <td>0</td>\n",
              "      <td>0</td>\n",
              "      <td>0</td>\n",
              "      <td>6</td>\n",
              "      <td>6</td>\n",
              "      <td>0.0</td>\n",
              "      <td>0.0</td>\n",
              "      <td>0.0</td>\n",
              "      <td>0.0</td>\n",
              "      <td>1.0</td>\n",
              "      <td>0.0</td>\n",
              "      <td>0.0</td>\n",
              "      <td>39</td>\n",
              "      <td>39</td>\n",
              "      <td>1.0</td>\n",
              "      <td>0.0</td>\n",
              "      <td>0.03</td>\n",
              "      <td>0.0</td>\n",
              "      <td>0.0</td>\n",
              "      <td>0.0</td>\n",
              "      <td>0.0</td>\n",
              "      <td>0.0</td>\n",
              "      <td>normal.</td>\n",
              "    </tr>\n",
              "    <tr>\n",
              "      <th>4</th>\n",
              "      <td>0</td>\n",
              "      <td>tcp</td>\n",
              "      <td>http</td>\n",
              "      <td>SF</td>\n",
              "      <td>217</td>\n",
              "      <td>2032</td>\n",
              "      <td>0</td>\n",
              "      <td>0</td>\n",
              "      <td>0</td>\n",
              "      <td>0</td>\n",
              "      <td>0</td>\n",
              "      <td>1</td>\n",
              "      <td>0</td>\n",
              "      <td>0</td>\n",
              "      <td>0</td>\n",
              "      <td>0</td>\n",
              "      <td>0</td>\n",
              "      <td>0</td>\n",
              "      <td>0</td>\n",
              "      <td>0</td>\n",
              "      <td>0</td>\n",
              "      <td>0</td>\n",
              "      <td>6</td>\n",
              "      <td>6</td>\n",
              "      <td>0.0</td>\n",
              "      <td>0.0</td>\n",
              "      <td>0.0</td>\n",
              "      <td>0.0</td>\n",
              "      <td>1.0</td>\n",
              "      <td>0.0</td>\n",
              "      <td>0.0</td>\n",
              "      <td>49</td>\n",
              "      <td>49</td>\n",
              "      <td>1.0</td>\n",
              "      <td>0.0</td>\n",
              "      <td>0.02</td>\n",
              "      <td>0.0</td>\n",
              "      <td>0.0</td>\n",
              "      <td>0.0</td>\n",
              "      <td>0.0</td>\n",
              "      <td>0.0</td>\n",
              "      <td>normal.</td>\n",
              "    </tr>\n",
              "  </tbody>\n",
              "</table>\n",
              "</div>"
            ],
            "text/plain": [
              "   duration protocol_type  ... dst_host_srv_rerror_rate   result\n",
              "0         0           tcp  ...                      0.0  normal.\n",
              "1         0           tcp  ...                      0.0  normal.\n",
              "2         0           tcp  ...                      0.0  normal.\n",
              "3         0           tcp  ...                      0.0  normal.\n",
              "4         0           tcp  ...                      0.0  normal.\n",
              "\n",
              "[5 rows x 42 columns]"
            ]
          },
          "metadata": {},
          "execution_count": 4
        }
      ]
    },
    {
      "cell_type": "code",
      "metadata": {
        "colab": {
          "base_uri": "https://localhost:8080/"
        },
        "id": "cg1leF7PiPRp",
        "outputId": "047bf914-0831-40fa-9306-9870625bcb0f"
      },
      "source": [
        "for col in df.columns:\n",
        "  print(col, ' :', len(df[col].unique()), ' ', df[col].dtypes)"
      ],
      "execution_count": null,
      "outputs": [
        {
          "output_type": "stream",
          "name": "stdout",
          "text": [
            "duration  : 2495   int64\n",
            "protocol_type  : 3   object\n",
            "service  : 66   object\n",
            "flag  : 11   object\n",
            "src_bytes  : 3300   int64\n",
            "dst_bytes  : 10725   int64\n",
            "land  : 2   int64\n",
            "wrong_fragment  : 3   int64\n",
            "urgent  : 4   int64\n",
            "hot  : 22   int64\n",
            "num_failed_logins  : 6   int64\n",
            "logged_in  : 2   int64\n",
            "num_compromised  : 23   int64\n",
            "root_shell  : 2   int64\n",
            "su_attempted  : 3   int64\n",
            "num_root  : 20   int64\n",
            "num_file_creations  : 18   int64\n",
            "num_shells  : 3   int64\n",
            "num_access_files  : 7   int64\n",
            "num_outbound_cmds  : 1   int64\n",
            "is_host_login  : 1   int64\n",
            "is_guest_login  : 2   int64\n",
            "count  : 490   int64\n",
            "srv_count  : 470   int64\n",
            "serror_rate  : 92   float64\n",
            "srv_serror_rate  : 51   float64\n",
            "same_srv_rate  : 77   float64\n",
            "diff_srv_rate  : 51   float64\n",
            "srv_diff_host_rate  : 99   float64\n",
            "una1  : 78   float64\n",
            "una2  : 64   float64\n",
            "dst_host_count  : 256   int64\n",
            "dst_host_srv_count  : 256   int64\n",
            "dst_host_same_srv_rate  : 101   float64\n",
            "dst_host_diff_srv_rate  : 101   float64\n",
            "dst_host_same_src_port_rate  : 101   float64\n",
            "dst_host_srv_diff_host_rate  : 65   float64\n",
            "dst_host_serror_rate  : 100   float64\n",
            "dst_host_srv_serror_rate  : 72   float64\n",
            "dst_host_rerror_rate  : 101   float64\n",
            "dst_host_srv_rerror_rate  : 101   float64\n",
            "result  : 23   object\n"
          ]
        }
      ]
    },
    {
      "cell_type": "code",
      "metadata": {
        "colab": {
          "base_uri": "https://localhost:8080/"
        },
        "id": "oK-ZUbadjESj",
        "outputId": "7c5aa2e3-bdcf-4ab1-e274-65c48894a19f"
      },
      "source": [
        "#examining how many columns will we obtain after one hot encoding the variables\n",
        "pd.get_dummies(df,drop_first=True).shape"
      ],
      "execution_count": null,
      "outputs": [
        {
          "output_type": "execute_result",
          "data": {
            "text/plain": [
              "(494021, 137)"
            ]
          },
          "metadata": {},
          "execution_count": 6
        }
      ]
    },
    {
      "cell_type": "code",
      "metadata": {
        "colab": {
          "base_uri": "https://localhost:8080/"
        },
        "id": "8HCD1gwqkYOb",
        "outputId": "0afe94ef-dc08-4fc0-8529-30cb054505aa"
      },
      "source": [
        "df.service.value_counts().sort_values(ascending=False).head(30)"
      ],
      "execution_count": null,
      "outputs": [
        {
          "output_type": "execute_result",
          "data": {
            "text/plain": [
              "ecr_i         281400\n",
              "private       110893\n",
              "http           64293\n",
              "smtp            9723\n",
              "other           7237\n",
              "domain_u        5863\n",
              "ftp_data        4721\n",
              "eco_i           1642\n",
              "ftp              798\n",
              "finger           670\n",
              "urp_i            538\n",
              "telnet           513\n",
              "ntp_u            380\n",
              "auth             328\n",
              "pop_3            202\n",
              "time             157\n",
              "csnet_ns         126\n",
              "remote_job       120\n",
              "gopher           117\n",
              "imap4            117\n",
              "domain           116\n",
              "discard          116\n",
              "systat           115\n",
              "iso_tsap         115\n",
              "shell            112\n",
              "echo             112\n",
              "rje              111\n",
              "sql_net          110\n",
              "whois            110\n",
              "printer          109\n",
              "Name: service, dtype: int64"
            ]
          },
          "metadata": {},
          "execution_count": 7
        }
      ]
    },
    {
      "cell_type": "code",
      "metadata": {
        "colab": {
          "base_uri": "https://localhost:8080/"
        },
        "id": "8vtmPlzvPOA7",
        "outputId": "08597b96-1740-4e50-8784-7ab67e08e3eb"
      },
      "source": [
        "df.shape"
      ],
      "execution_count": null,
      "outputs": [
        {
          "output_type": "execute_result",
          "data": {
            "text/plain": [
              "(494021, 42)"
            ]
          },
          "metadata": {},
          "execution_count": 8
        }
      ]
    },
    {
      "cell_type": "code",
      "metadata": {
        "colab": {
          "base_uri": "https://localhost:8080/",
          "height": 317
        },
        "id": "vlMZfCF-5x_Y",
        "outputId": "b4f59270-12ea-4741-b2ce-967c2b6ef1ae"
      },
      "source": [
        "df.describe()"
      ],
      "execution_count": null,
      "outputs": [
        {
          "output_type": "execute_result",
          "data": {
            "text/html": [
              "<div>\n",
              "<style scoped>\n",
              "    .dataframe tbody tr th:only-of-type {\n",
              "        vertical-align: middle;\n",
              "    }\n",
              "\n",
              "    .dataframe tbody tr th {\n",
              "        vertical-align: top;\n",
              "    }\n",
              "\n",
              "    .dataframe thead th {\n",
              "        text-align: right;\n",
              "    }\n",
              "</style>\n",
              "<table border=\"1\" class=\"dataframe\">\n",
              "  <thead>\n",
              "    <tr style=\"text-align: right;\">\n",
              "      <th></th>\n",
              "      <th>duration</th>\n",
              "      <th>src_bytes</th>\n",
              "      <th>dst_bytes</th>\n",
              "      <th>land</th>\n",
              "      <th>wrong_fragment</th>\n",
              "      <th>urgent</th>\n",
              "      <th>hot</th>\n",
              "      <th>num_failed_logins</th>\n",
              "      <th>logged_in</th>\n",
              "      <th>num_compromised</th>\n",
              "      <th>root_shell</th>\n",
              "      <th>su_attempted</th>\n",
              "      <th>num_root</th>\n",
              "      <th>num_file_creations</th>\n",
              "      <th>num_shells</th>\n",
              "      <th>num_access_files</th>\n",
              "      <th>num_outbound_cmds</th>\n",
              "      <th>is_host_login</th>\n",
              "      <th>is_guest_login</th>\n",
              "      <th>count</th>\n",
              "      <th>srv_count</th>\n",
              "      <th>serror_rate</th>\n",
              "      <th>srv_serror_rate</th>\n",
              "      <th>same_srv_rate</th>\n",
              "      <th>diff_srv_rate</th>\n",
              "      <th>srv_diff_host_rate</th>\n",
              "      <th>una1</th>\n",
              "      <th>una2</th>\n",
              "      <th>dst_host_count</th>\n",
              "      <th>dst_host_srv_count</th>\n",
              "      <th>dst_host_same_srv_rate</th>\n",
              "      <th>dst_host_diff_srv_rate</th>\n",
              "      <th>dst_host_same_src_port_rate</th>\n",
              "      <th>dst_host_srv_diff_host_rate</th>\n",
              "      <th>dst_host_serror_rate</th>\n",
              "      <th>dst_host_srv_serror_rate</th>\n",
              "      <th>dst_host_rerror_rate</th>\n",
              "      <th>dst_host_srv_rerror_rate</th>\n",
              "    </tr>\n",
              "  </thead>\n",
              "  <tbody>\n",
              "    <tr>\n",
              "      <th>count</th>\n",
              "      <td>494021.000000</td>\n",
              "      <td>4.940210e+05</td>\n",
              "      <td>4.940210e+05</td>\n",
              "      <td>494021.000000</td>\n",
              "      <td>494021.000000</td>\n",
              "      <td>494021.000000</td>\n",
              "      <td>494021.000000</td>\n",
              "      <td>494021.000000</td>\n",
              "      <td>494021.000000</td>\n",
              "      <td>494021.000000</td>\n",
              "      <td>494021.000000</td>\n",
              "      <td>494021.000000</td>\n",
              "      <td>494021.000000</td>\n",
              "      <td>494021.000000</td>\n",
              "      <td>494021.000000</td>\n",
              "      <td>494021.000000</td>\n",
              "      <td>494021.0</td>\n",
              "      <td>494021.0</td>\n",
              "      <td>494021.000000</td>\n",
              "      <td>494021.000000</td>\n",
              "      <td>494021.000000</td>\n",
              "      <td>494021.000000</td>\n",
              "      <td>494021.000000</td>\n",
              "      <td>494021.000000</td>\n",
              "      <td>494021.000000</td>\n",
              "      <td>494021.000000</td>\n",
              "      <td>494021.000000</td>\n",
              "      <td>494021.000000</td>\n",
              "      <td>494021.000000</td>\n",
              "      <td>494021.000000</td>\n",
              "      <td>494021.000000</td>\n",
              "      <td>494021.000000</td>\n",
              "      <td>494021.000000</td>\n",
              "      <td>494021.000000</td>\n",
              "      <td>494021.000000</td>\n",
              "      <td>494021.000000</td>\n",
              "      <td>494021.000000</td>\n",
              "      <td>494021.000000</td>\n",
              "    </tr>\n",
              "    <tr>\n",
              "      <th>mean</th>\n",
              "      <td>47.979302</td>\n",
              "      <td>3.025610e+03</td>\n",
              "      <td>8.685324e+02</td>\n",
              "      <td>0.000045</td>\n",
              "      <td>0.006433</td>\n",
              "      <td>0.000014</td>\n",
              "      <td>0.034519</td>\n",
              "      <td>0.000152</td>\n",
              "      <td>0.148247</td>\n",
              "      <td>0.010212</td>\n",
              "      <td>0.000111</td>\n",
              "      <td>0.000036</td>\n",
              "      <td>0.011352</td>\n",
              "      <td>0.001083</td>\n",
              "      <td>0.000109</td>\n",
              "      <td>0.001008</td>\n",
              "      <td>0.0</td>\n",
              "      <td>0.0</td>\n",
              "      <td>0.001387</td>\n",
              "      <td>332.285690</td>\n",
              "      <td>292.906557</td>\n",
              "      <td>0.176687</td>\n",
              "      <td>0.176609</td>\n",
              "      <td>0.057433</td>\n",
              "      <td>0.057719</td>\n",
              "      <td>0.791547</td>\n",
              "      <td>0.020982</td>\n",
              "      <td>0.028997</td>\n",
              "      <td>232.470778</td>\n",
              "      <td>188.665670</td>\n",
              "      <td>0.753780</td>\n",
              "      <td>0.030906</td>\n",
              "      <td>0.601935</td>\n",
              "      <td>0.006684</td>\n",
              "      <td>0.176754</td>\n",
              "      <td>0.176443</td>\n",
              "      <td>0.058118</td>\n",
              "      <td>0.057412</td>\n",
              "    </tr>\n",
              "    <tr>\n",
              "      <th>std</th>\n",
              "      <td>707.746472</td>\n",
              "      <td>9.882181e+05</td>\n",
              "      <td>3.304000e+04</td>\n",
              "      <td>0.006673</td>\n",
              "      <td>0.134805</td>\n",
              "      <td>0.005510</td>\n",
              "      <td>0.782103</td>\n",
              "      <td>0.015520</td>\n",
              "      <td>0.355345</td>\n",
              "      <td>1.798326</td>\n",
              "      <td>0.010551</td>\n",
              "      <td>0.007793</td>\n",
              "      <td>2.012718</td>\n",
              "      <td>0.096416</td>\n",
              "      <td>0.011020</td>\n",
              "      <td>0.036482</td>\n",
              "      <td>0.0</td>\n",
              "      <td>0.0</td>\n",
              "      <td>0.037211</td>\n",
              "      <td>213.147412</td>\n",
              "      <td>246.322817</td>\n",
              "      <td>0.380717</td>\n",
              "      <td>0.381017</td>\n",
              "      <td>0.231623</td>\n",
              "      <td>0.232147</td>\n",
              "      <td>0.388189</td>\n",
              "      <td>0.082205</td>\n",
              "      <td>0.142397</td>\n",
              "      <td>64.745380</td>\n",
              "      <td>106.040437</td>\n",
              "      <td>0.410781</td>\n",
              "      <td>0.109259</td>\n",
              "      <td>0.481309</td>\n",
              "      <td>0.042133</td>\n",
              "      <td>0.380593</td>\n",
              "      <td>0.380919</td>\n",
              "      <td>0.230590</td>\n",
              "      <td>0.230140</td>\n",
              "    </tr>\n",
              "    <tr>\n",
              "      <th>min</th>\n",
              "      <td>0.000000</td>\n",
              "      <td>0.000000e+00</td>\n",
              "      <td>0.000000e+00</td>\n",
              "      <td>0.000000</td>\n",
              "      <td>0.000000</td>\n",
              "      <td>0.000000</td>\n",
              "      <td>0.000000</td>\n",
              "      <td>0.000000</td>\n",
              "      <td>0.000000</td>\n",
              "      <td>0.000000</td>\n",
              "      <td>0.000000</td>\n",
              "      <td>0.000000</td>\n",
              "      <td>0.000000</td>\n",
              "      <td>0.000000</td>\n",
              "      <td>0.000000</td>\n",
              "      <td>0.000000</td>\n",
              "      <td>0.0</td>\n",
              "      <td>0.0</td>\n",
              "      <td>0.000000</td>\n",
              "      <td>0.000000</td>\n",
              "      <td>0.000000</td>\n",
              "      <td>0.000000</td>\n",
              "      <td>0.000000</td>\n",
              "      <td>0.000000</td>\n",
              "      <td>0.000000</td>\n",
              "      <td>0.000000</td>\n",
              "      <td>0.000000</td>\n",
              "      <td>0.000000</td>\n",
              "      <td>0.000000</td>\n",
              "      <td>0.000000</td>\n",
              "      <td>0.000000</td>\n",
              "      <td>0.000000</td>\n",
              "      <td>0.000000</td>\n",
              "      <td>0.000000</td>\n",
              "      <td>0.000000</td>\n",
              "      <td>0.000000</td>\n",
              "      <td>0.000000</td>\n",
              "      <td>0.000000</td>\n",
              "    </tr>\n",
              "    <tr>\n",
              "      <th>25%</th>\n",
              "      <td>0.000000</td>\n",
              "      <td>4.500000e+01</td>\n",
              "      <td>0.000000e+00</td>\n",
              "      <td>0.000000</td>\n",
              "      <td>0.000000</td>\n",
              "      <td>0.000000</td>\n",
              "      <td>0.000000</td>\n",
              "      <td>0.000000</td>\n",
              "      <td>0.000000</td>\n",
              "      <td>0.000000</td>\n",
              "      <td>0.000000</td>\n",
              "      <td>0.000000</td>\n",
              "      <td>0.000000</td>\n",
              "      <td>0.000000</td>\n",
              "      <td>0.000000</td>\n",
              "      <td>0.000000</td>\n",
              "      <td>0.0</td>\n",
              "      <td>0.0</td>\n",
              "      <td>0.000000</td>\n",
              "      <td>117.000000</td>\n",
              "      <td>10.000000</td>\n",
              "      <td>0.000000</td>\n",
              "      <td>0.000000</td>\n",
              "      <td>0.000000</td>\n",
              "      <td>0.000000</td>\n",
              "      <td>1.000000</td>\n",
              "      <td>0.000000</td>\n",
              "      <td>0.000000</td>\n",
              "      <td>255.000000</td>\n",
              "      <td>46.000000</td>\n",
              "      <td>0.410000</td>\n",
              "      <td>0.000000</td>\n",
              "      <td>0.000000</td>\n",
              "      <td>0.000000</td>\n",
              "      <td>0.000000</td>\n",
              "      <td>0.000000</td>\n",
              "      <td>0.000000</td>\n",
              "      <td>0.000000</td>\n",
              "    </tr>\n",
              "    <tr>\n",
              "      <th>50%</th>\n",
              "      <td>0.000000</td>\n",
              "      <td>5.200000e+02</td>\n",
              "      <td>0.000000e+00</td>\n",
              "      <td>0.000000</td>\n",
              "      <td>0.000000</td>\n",
              "      <td>0.000000</td>\n",
              "      <td>0.000000</td>\n",
              "      <td>0.000000</td>\n",
              "      <td>0.000000</td>\n",
              "      <td>0.000000</td>\n",
              "      <td>0.000000</td>\n",
              "      <td>0.000000</td>\n",
              "      <td>0.000000</td>\n",
              "      <td>0.000000</td>\n",
              "      <td>0.000000</td>\n",
              "      <td>0.000000</td>\n",
              "      <td>0.0</td>\n",
              "      <td>0.0</td>\n",
              "      <td>0.000000</td>\n",
              "      <td>510.000000</td>\n",
              "      <td>510.000000</td>\n",
              "      <td>0.000000</td>\n",
              "      <td>0.000000</td>\n",
              "      <td>0.000000</td>\n",
              "      <td>0.000000</td>\n",
              "      <td>1.000000</td>\n",
              "      <td>0.000000</td>\n",
              "      <td>0.000000</td>\n",
              "      <td>255.000000</td>\n",
              "      <td>255.000000</td>\n",
              "      <td>1.000000</td>\n",
              "      <td>0.000000</td>\n",
              "      <td>1.000000</td>\n",
              "      <td>0.000000</td>\n",
              "      <td>0.000000</td>\n",
              "      <td>0.000000</td>\n",
              "      <td>0.000000</td>\n",
              "      <td>0.000000</td>\n",
              "    </tr>\n",
              "    <tr>\n",
              "      <th>75%</th>\n",
              "      <td>0.000000</td>\n",
              "      <td>1.032000e+03</td>\n",
              "      <td>0.000000e+00</td>\n",
              "      <td>0.000000</td>\n",
              "      <td>0.000000</td>\n",
              "      <td>0.000000</td>\n",
              "      <td>0.000000</td>\n",
              "      <td>0.000000</td>\n",
              "      <td>0.000000</td>\n",
              "      <td>0.000000</td>\n",
              "      <td>0.000000</td>\n",
              "      <td>0.000000</td>\n",
              "      <td>0.000000</td>\n",
              "      <td>0.000000</td>\n",
              "      <td>0.000000</td>\n",
              "      <td>0.000000</td>\n",
              "      <td>0.0</td>\n",
              "      <td>0.0</td>\n",
              "      <td>0.000000</td>\n",
              "      <td>511.000000</td>\n",
              "      <td>511.000000</td>\n",
              "      <td>0.000000</td>\n",
              "      <td>0.000000</td>\n",
              "      <td>0.000000</td>\n",
              "      <td>0.000000</td>\n",
              "      <td>1.000000</td>\n",
              "      <td>0.000000</td>\n",
              "      <td>0.000000</td>\n",
              "      <td>255.000000</td>\n",
              "      <td>255.000000</td>\n",
              "      <td>1.000000</td>\n",
              "      <td>0.040000</td>\n",
              "      <td>1.000000</td>\n",
              "      <td>0.000000</td>\n",
              "      <td>0.000000</td>\n",
              "      <td>0.000000</td>\n",
              "      <td>0.000000</td>\n",
              "      <td>0.000000</td>\n",
              "    </tr>\n",
              "    <tr>\n",
              "      <th>max</th>\n",
              "      <td>58329.000000</td>\n",
              "      <td>6.933756e+08</td>\n",
              "      <td>5.155468e+06</td>\n",
              "      <td>1.000000</td>\n",
              "      <td>3.000000</td>\n",
              "      <td>3.000000</td>\n",
              "      <td>30.000000</td>\n",
              "      <td>5.000000</td>\n",
              "      <td>1.000000</td>\n",
              "      <td>884.000000</td>\n",
              "      <td>1.000000</td>\n",
              "      <td>2.000000</td>\n",
              "      <td>993.000000</td>\n",
              "      <td>28.000000</td>\n",
              "      <td>2.000000</td>\n",
              "      <td>8.000000</td>\n",
              "      <td>0.0</td>\n",
              "      <td>0.0</td>\n",
              "      <td>1.000000</td>\n",
              "      <td>511.000000</td>\n",
              "      <td>511.000000</td>\n",
              "      <td>1.000000</td>\n",
              "      <td>1.000000</td>\n",
              "      <td>1.000000</td>\n",
              "      <td>1.000000</td>\n",
              "      <td>1.000000</td>\n",
              "      <td>1.000000</td>\n",
              "      <td>1.000000</td>\n",
              "      <td>255.000000</td>\n",
              "      <td>255.000000</td>\n",
              "      <td>1.000000</td>\n",
              "      <td>1.000000</td>\n",
              "      <td>1.000000</td>\n",
              "      <td>1.000000</td>\n",
              "      <td>1.000000</td>\n",
              "      <td>1.000000</td>\n",
              "      <td>1.000000</td>\n",
              "      <td>1.000000</td>\n",
              "    </tr>\n",
              "  </tbody>\n",
              "</table>\n",
              "</div>"
            ],
            "text/plain": [
              "            duration  ...  dst_host_srv_rerror_rate\n",
              "count  494021.000000  ...             494021.000000\n",
              "mean       47.979302  ...                  0.057412\n",
              "std       707.746472  ...                  0.230140\n",
              "min         0.000000  ...                  0.000000\n",
              "25%         0.000000  ...                  0.000000\n",
              "50%         0.000000  ...                  0.000000\n",
              "75%         0.000000  ...                  0.000000\n",
              "max     58329.000000  ...                  1.000000\n",
              "\n",
              "[8 rows x 38 columns]"
            ]
          },
          "metadata": {},
          "execution_count": 9
        }
      ]
    },
    {
      "cell_type": "code",
      "metadata": {
        "colab": {
          "base_uri": "https://localhost:8080/"
        },
        "id": "vDITHq0vPUWn",
        "outputId": "0ecc625d-3bcf-41b3-d7be-30de48c6a34b"
      },
      "source": [
        "pd.Series(df.protocol_type.value_counts(ascending=True))"
      ],
      "execution_count": null,
      "outputs": [
        {
          "output_type": "execute_result",
          "data": {
            "text/plain": [
              "udp      20354\n",
              "tcp     190065\n",
              "icmp    283602\n",
              "Name: protocol_type, dtype: int64"
            ]
          },
          "metadata": {},
          "execution_count": 10
        }
      ]
    },
    {
      "cell_type": "code",
      "metadata": {
        "colab": {
          "base_uri": "https://localhost:8080/"
        },
        "id": "nWg6I9HiPgXi",
        "outputId": "00369749-c382-47c1-9dea-5759b58c6036"
      },
      "source": [
        "df['result'].unique()"
      ],
      "execution_count": null,
      "outputs": [
        {
          "output_type": "execute_result",
          "data": {
            "text/plain": [
              "array(['normal.', 'buffer_overflow.', 'loadmodule.', 'perl.', 'neptune.',\n",
              "       'smurf.', 'guess_passwd.', 'pod.', 'teardrop.', 'portsweep.',\n",
              "       'ipsweep.', 'land.', 'ftp_write.', 'back.', 'imap.', 'satan.',\n",
              "       'phf.', 'nmap.', 'multihop.', 'warezmaster.', 'warezclient.',\n",
              "       'spy.', 'rootkit.'], dtype=object)"
            ]
          },
          "metadata": {},
          "execution_count": 11
        }
      ]
    },
    {
      "cell_type": "code",
      "metadata": {
        "colab": {
          "base_uri": "https://localhost:8080/"
        },
        "id": "OmAxhpfCXNYI",
        "outputId": "5e8e0fc1-3705-44a7-82e5-213935e0b501"
      },
      "source": [
        "df['protocol_type'].unique()"
      ],
      "execution_count": null,
      "outputs": [
        {
          "output_type": "execute_result",
          "data": {
            "text/plain": [
              "array(['tcp', 'udp', 'icmp'], dtype=object)"
            ]
          },
          "metadata": {},
          "execution_count": 12
        }
      ]
    },
    {
      "cell_type": "code",
      "metadata": {
        "colab": {
          "base_uri": "https://localhost:8080/"
        },
        "id": "M-fCRjFuPP2l",
        "outputId": "e9353546-f380-46eb-963a-c17d59c9433c"
      },
      "source": [
        "df.isnull().sum()"
      ],
      "execution_count": null,
      "outputs": [
        {
          "output_type": "execute_result",
          "data": {
            "text/plain": [
              "duration                       0\n",
              "protocol_type                  0\n",
              "service                        0\n",
              "flag                           0\n",
              "src_bytes                      0\n",
              "dst_bytes                      0\n",
              "land                           0\n",
              "wrong_fragment                 0\n",
              "urgent                         0\n",
              "hot                            0\n",
              "num_failed_logins              0\n",
              "logged_in                      0\n",
              "num_compromised                0\n",
              "root_shell                     0\n",
              "su_attempted                   0\n",
              "num_root                       0\n",
              "num_file_creations             0\n",
              "num_shells                     0\n",
              "num_access_files               0\n",
              "num_outbound_cmds              0\n",
              "is_host_login                  0\n",
              "is_guest_login                 0\n",
              "count                          0\n",
              "srv_count                      0\n",
              "serror_rate                    0\n",
              "srv_serror_rate                0\n",
              "same_srv_rate                  0\n",
              "diff_srv_rate                  0\n",
              "srv_diff_host_rate             0\n",
              "una1                           0\n",
              "una2                           0\n",
              "dst_host_count                 0\n",
              "dst_host_srv_count             0\n",
              "dst_host_same_srv_rate         0\n",
              "dst_host_diff_srv_rate         0\n",
              "dst_host_same_src_port_rate    0\n",
              "dst_host_srv_diff_host_rate    0\n",
              "dst_host_serror_rate           0\n",
              "dst_host_srv_serror_rate       0\n",
              "dst_host_rerror_rate           0\n",
              "dst_host_srv_rerror_rate       0\n",
              "result                         0\n",
              "dtype: int64"
            ]
          },
          "metadata": {},
          "execution_count": 13
        }
      ]
    },
    {
      "cell_type": "code",
      "metadata": {
        "colab": {
          "base_uri": "https://localhost:8080/"
        },
        "id": "9ebHjfvjXblW",
        "outputId": "93e6ca17-7f21-4a37-edd9-6faa9d7b148d"
      },
      "source": [
        "df['service'].unique()"
      ],
      "execution_count": null,
      "outputs": [
        {
          "output_type": "execute_result",
          "data": {
            "text/plain": [
              "array(['http', 'smtp', 'finger', 'domain_u', 'auth', 'telnet', 'ftp',\n",
              "       'eco_i', 'ntp_u', 'ecr_i', 'other', 'private', 'pop_3', 'ftp_data',\n",
              "       'rje', 'time', 'mtp', 'link', 'remote_job', 'gopher', 'ssh',\n",
              "       'name', 'whois', 'domain', 'login', 'imap4', 'daytime', 'ctf',\n",
              "       'nntp', 'shell', 'IRC', 'nnsp', 'http_443', 'exec', 'printer',\n",
              "       'efs', 'courier', 'uucp', 'klogin', 'kshell', 'echo', 'discard',\n",
              "       'systat', 'supdup', 'iso_tsap', 'hostnames', 'csnet_ns', 'pop_2',\n",
              "       'sunrpc', 'uucp_path', 'netbios_ns', 'netbios_ssn', 'netbios_dgm',\n",
              "       'sql_net', 'vmnet', 'bgp', 'Z39_50', 'ldap', 'netstat', 'urh_i',\n",
              "       'X11', 'urp_i', 'pm_dump', 'tftp_u', 'tim_i', 'red_i'],\n",
              "      dtype=object)"
            ]
          },
          "metadata": {},
          "execution_count": 14
        }
      ]
    },
    {
      "cell_type": "code",
      "metadata": {
        "colab": {
          "base_uri": "https://localhost:8080/"
        },
        "id": "sqEidIC7XhTh",
        "outputId": "21f196e6-7b5f-43c7-8c80-9ba32e1c86ea"
      },
      "source": [
        "df['flag'].unique()"
      ],
      "execution_count": null,
      "outputs": [
        {
          "output_type": "execute_result",
          "data": {
            "text/plain": [
              "array(['SF', 'S1', 'REJ', 'S2', 'S0', 'S3', 'RSTO', 'RSTR', 'RSTOS0',\n",
              "       'OTH', 'SH'], dtype=object)"
            ]
          },
          "metadata": {},
          "execution_count": 15
        }
      ]
    },
    {
      "cell_type": "code",
      "metadata": {
        "id": "P0e0louZHrqp"
      },
      "source": [
        "df_copy=df.copy()"
      ],
      "execution_count": null,
      "outputs": []
    },
    {
      "cell_type": "code",
      "metadata": {
        "id": "HmTBxfZD-c24"
      },
      "source": [
        "from sklearn.compose import ColumnTransformer\n",
        "from sklearn.preprocessing import OneHotEncoder\n",
        "\n",
        "onehot=OneHotEncoder()\n",
        "cat_attr = ['protocol_type','service','flag']\n",
        "\n",
        "pipeline = ColumnTransformer([(\"onehot\", onehot,cat_attr)])\n",
        "df_transformed = pipeline.fit_transform(df_copy).toarray()"
      ],
      "execution_count": null,
      "outputs": []
    },
    {
      "cell_type": "code",
      "metadata": {
        "id": "oKhjjSrRPpIi"
      },
      "source": [
        "df_copy[\"result\"] = np.where(df_copy.result == \"normal.\",1,0)"
      ],
      "execution_count": null,
      "outputs": []
    },
    {
      "cell_type": "code",
      "metadata": {
        "colab": {
          "base_uri": "https://localhost:8080/"
        },
        "id": "QV-1CgzbPlm0",
        "outputId": "ba29e51a-9ac4-4b1e-88bc-95af9b6eceba"
      },
      "source": [
        "df_copy.info()"
      ],
      "execution_count": null,
      "outputs": [
        {
          "output_type": "stream",
          "name": "stdout",
          "text": [
            "<class 'pandas.core.frame.DataFrame'>\n",
            "RangeIndex: 494021 entries, 0 to 494020\n",
            "Data columns (total 42 columns):\n",
            " #   Column                       Non-Null Count   Dtype  \n",
            "---  ------                       --------------   -----  \n",
            " 0   duration                     494021 non-null  int64  \n",
            " 1   protocol_type                494021 non-null  object \n",
            " 2   service                      494021 non-null  object \n",
            " 3   flag                         494021 non-null  object \n",
            " 4   src_bytes                    494021 non-null  int64  \n",
            " 5   dst_bytes                    494021 non-null  int64  \n",
            " 6   land                         494021 non-null  int64  \n",
            " 7   wrong_fragment               494021 non-null  int64  \n",
            " 8   urgent                       494021 non-null  int64  \n",
            " 9   hot                          494021 non-null  int64  \n",
            " 10  num_failed_logins            494021 non-null  int64  \n",
            " 11  logged_in                    494021 non-null  int64  \n",
            " 12  num_compromised              494021 non-null  int64  \n",
            " 13  root_shell                   494021 non-null  int64  \n",
            " 14  su_attempted                 494021 non-null  int64  \n",
            " 15  num_root                     494021 non-null  int64  \n",
            " 16  num_file_creations           494021 non-null  int64  \n",
            " 17  num_shells                   494021 non-null  int64  \n",
            " 18  num_access_files             494021 non-null  int64  \n",
            " 19  num_outbound_cmds            494021 non-null  int64  \n",
            " 20  is_host_login                494021 non-null  int64  \n",
            " 21  is_guest_login               494021 non-null  int64  \n",
            " 22  count                        494021 non-null  int64  \n",
            " 23  srv_count                    494021 non-null  int64  \n",
            " 24  serror_rate                  494021 non-null  float64\n",
            " 25  srv_serror_rate              494021 non-null  float64\n",
            " 26  same_srv_rate                494021 non-null  float64\n",
            " 27  diff_srv_rate                494021 non-null  float64\n",
            " 28  srv_diff_host_rate           494021 non-null  float64\n",
            " 29  una1                         494021 non-null  float64\n",
            " 30  una2                         494021 non-null  float64\n",
            " 31  dst_host_count               494021 non-null  int64  \n",
            " 32  dst_host_srv_count           494021 non-null  int64  \n",
            " 33  dst_host_same_srv_rate       494021 non-null  float64\n",
            " 34  dst_host_diff_srv_rate       494021 non-null  float64\n",
            " 35  dst_host_same_src_port_rate  494021 non-null  float64\n",
            " 36  dst_host_srv_diff_host_rate  494021 non-null  float64\n",
            " 37  dst_host_serror_rate         494021 non-null  float64\n",
            " 38  dst_host_srv_serror_rate     494021 non-null  float64\n",
            " 39  dst_host_rerror_rate         494021 non-null  float64\n",
            " 40  dst_host_srv_rerror_rate     494021 non-null  float64\n",
            " 41  result                       494021 non-null  int64  \n",
            "dtypes: float64(15), int64(24), object(3)\n",
            "memory usage: 158.3+ MB\n"
          ]
        }
      ]
    },
    {
      "cell_type": "code",
      "metadata": {
        "id": "ueW5AtbmQAKA"
      },
      "source": [
        "# # ##Train Test Split to overcome overfitting\n",
        "# # from sklearn.model_selection import train_test_split\n",
        "# # X_train, X_test, y_train, y_test = train_test_split(df_copy.drop(labels=['result'],axis=1),df_copy['result'],test_size=0.3,random_state=1)\n",
        "# # check version number\n",
        "# from imblearn.over_sampling import SMOTE, ADASYN\n",
        "# from imblearn.combine import SMOTEENN, SMOTETomek  \n",
        "# from sklearn.model_selection import train_test_split\n",
        "# from collections import Counter\n",
        "# def x_y(df_given):\n",
        "#   X = df_copy.drop(labels=['result'],axis=1)\n",
        "#   y = df_copy['result']\n",
        "#   counter = Counter(y)\n",
        "#   print(\"before: \",counter)\n",
        "#   oversample = ADASYN(random_state = 1)\n",
        "#   X,y = oversample.fit_resample(X,y)\n",
        "#   X_train, X_test, y_train, y_test = train_test_split(X, y, random_state=1, test_size=0.3)\n",
        "#   counter = Counter(y)\n",
        "#   print(\"after: \",counter)\n",
        "#   return X_train, X_test, y_train, y_test"
      ],
      "execution_count": null,
      "outputs": []
    },
    {
      "cell_type": "markdown",
      "metadata": {
        "id": "lazaOi6kIAcJ"
      },
      "source": [
        "**Feature Selection - CORRELATION**"
      ]
    },
    {
      "cell_type": "code",
      "metadata": {
        "id": "DmOxrZ67O6j8"
      },
      "source": [
        "import seaborn as sns\n",
        "plt.figure(figsize=(41,20))\n",
        "cor = X_train.corr()\n",
        "sns.heatmap(cor,annot=True, cmap=plt.cm.CMRmap_r)\n",
        "plt.show()"
      ],
      "execution_count": null,
      "outputs": []
    },
    {
      "cell_type": "code",
      "metadata": {
        "id": "35fxluAbRXmM"
      },
      "source": [
        "def correlation(dataset, threshold):\n",
        "  col_corr = set()\n",
        "  corr_matrix = dataset.corr()\n",
        "  for i in range(len(corr_matrix.columns)):\n",
        "    for j in range(i):\n",
        "      if (corr_matrix.iloc[i,j]) > threshold:\n",
        "        colname = corr_matrix.columns[i]\n",
        "        col_corr.add(colname)\n",
        "  return col_corr \n"
      ],
      "execution_count": null,
      "outputs": []
    },
    {
      "cell_type": "code",
      "metadata": {
        "id": "SWgcUFMiSuQu"
      },
      "source": [
        "corr_features = correlation(X_train, 0.8)\n",
        "len(set(corr_features))"
      ],
      "execution_count": null,
      "outputs": []
    },
    {
      "cell_type": "code",
      "metadata": {
        "id": "9hCpklXnUR1a"
      },
      "source": [
        "corr_features"
      ],
      "execution_count": null,
      "outputs": []
    },
    {
      "cell_type": "code",
      "metadata": {
        "id": "0gwNLdRYViJC"
      },
      "source": [
        "X_train.drop(corr_features,axis=1)\n",
        "X_test.drop(corr_features,axis=1)"
      ],
      "execution_count": null,
      "outputs": []
    },
    {
      "cell_type": "markdown",
      "metadata": {
        "id": "CgO1aIw7H1GJ"
      },
      "source": [
        "**Feature Selection - INFORMATION GAIN**"
      ]
    },
    {
      "cell_type": "code",
      "metadata": {
        "id": "Ot8e68hdSRBg"
      },
      "source": [
        "from sklearn.feature_selection import mutual_info_classif\n",
        "mutual_info = mutual_info_classif(X_train,y_train)\n",
        "mutual_info"
      ],
      "execution_count": null,
      "outputs": []
    },
    {
      "cell_type": "code",
      "metadata": {
        "id": "vZzEne7DAlGC"
      },
      "source": [
        "mutual_info = pd.Series(mutual_info)\n",
        "mutual_info.index=X_train.columns\n",
        "mutual_info.sort_values(ascending=False)"
      ],
      "execution_count": null,
      "outputs": []
    },
    {
      "cell_type": "code",
      "metadata": {
        "id": "lTre-T9uBaf_"
      },
      "source": [
        "mutual_info.sort_values(ascending=False).plot.bar(figsize=(20,8))"
      ],
      "execution_count": null,
      "outputs": []
    },
    {
      "cell_type": "code",
      "metadata": {
        "id": "RmkPy86gDzUU"
      },
      "source": [
        "from sklearn.feature_selection import SelectKBest\n",
        "sel_four_cols=SelectKBest(mutual_info_classif,k=4)\n",
        "sel_four_cols.fit(X_train,y_train)\n",
        "X_train.columns[sel_four_cols.get_support()]"
      ],
      "execution_count": null,
      "outputs": []
    },
    {
      "cell_type": "code",
      "metadata": {
        "id": "uid9wK4u4LJR"
      },
      "source": [
        "icmp_df = df[df.loc[:,\"protocol_type\"] == \"icmp\"]\n",
        "pd.Series(icmp_df.result.value_counts(ascending=True))"
      ],
      "execution_count": null,
      "outputs": []
    }
  ]
}